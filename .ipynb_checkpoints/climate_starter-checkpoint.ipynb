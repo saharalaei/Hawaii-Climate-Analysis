{
 "cells": [
  {
   "cell_type": "code",
   "execution_count": 1,
   "metadata": {},
   "outputs": [],
   "source": [
    "# import needed libraries:\n",
    "import sqlalchemy\n",
    "from sqlalchemy.ext.automap import automap_base\n",
    "from sqlalchemy.orm import Session\n",
    "from sqlalchemy import create_engine, func\n",
    "from sqlalchemy import inspect\n",
    "import datetime as dt\n",
    "import pandas as pd\n",
    "import matplotlib.pyplot as plt\n",
    "import seaborn as sns\n",
    "sns.set()"
   ]
  },
  {
   "cell_type": "markdown",
   "metadata": {},
   "source": [
    "### Step 1- Climate Analysis and Exploration"
   ]
  },
  {
   "cell_type": "code",
   "execution_count": 2,
   "metadata": {},
   "outputs": [],
   "source": [
    "# Create engine using the `hawaii.sqlite` database file\n",
    "engine = create_engine('sqlite:///Resources/hawaii.sqlite')"
   ]
  },
  {
   "cell_type": "code",
   "execution_count": 3,
   "metadata": {},
   "outputs": [],
   "source": [
    "# Declare a Base using `automap_base()`\n",
    "Base = automap_base()"
   ]
  },
  {
   "cell_type": "code",
   "execution_count": 4,
   "metadata": {},
   "outputs": [],
   "source": [
    "# Use the Base class to reflect the database tables\n",
    "Base.prepare(engine,reflect=True)"
   ]
  },
  {
   "cell_type": "code",
   "execution_count": 5,
   "metadata": {},
   "outputs": [
    {
     "name": "stdout",
     "output_type": "stream",
     "text": [
      "['measurement', 'station']\n"
     ]
    }
   ],
   "source": [
    "# Print all of the tables:\n",
    "inspector = inspect(engine)\n",
    "tables = inspector.get_table_names()\n",
    "\n",
    "print(tables)"
   ]
  },
  {
   "cell_type": "code",
   "execution_count": 6,
   "metadata": {},
   "outputs": [
    {
     "name": "stdout",
     "output_type": "stream",
     "text": [
      "The stations table has the below columns:\n",
      "\n",
      "id INTEGER\n",
      "station TEXT\n",
      "name TEXT\n",
      "latitude FLOAT\n",
      "longitude FLOAT\n",
      "elevation FLOAT\n",
      "-----------------------------------------------\n",
      "The measurement table has the below columns:\n",
      "\n",
      "id INTEGER\n",
      "station TEXT\n",
      "date TEXT\n",
      "prcp FLOAT\n",
      "tobs FLOAT\n"
     ]
    }
   ],
   "source": [
    "# display the column names of tables:\n",
    "\n",
    "columns_station = inspector.get_columns('station')\n",
    "\n",
    "print(\"The stations table has the below columns:\\n\")\n",
    "for column in columns_station:\n",
    "    print(column[\"name\"],column[\"type\"])\n",
    "\n",
    "print (\"-----------------------------------------------\")\n",
    "\n",
    "columns_measurement = inspector.get_columns('measurement')\n",
    "\n",
    "print(\"The measurement table has the below columns:\\n\")\n",
    "\n",
    "for column in columns_measurement:\n",
    "    print(column[\"name\"],column[\"type\"])\n"
   ]
  },
  {
   "cell_type": "code",
   "execution_count": 7,
   "metadata": {},
   "outputs": [],
   "source": [
    "# Assign the stations and measurement classes to variables called `Station` \n",
    "# and Measurement, respectively\n",
    "\n",
    "Station = Base.classes.station\n",
    "Measurement = Base.classes.measurement"
   ]
  },
  {
   "cell_type": "code",
   "execution_count": 8,
   "metadata": {},
   "outputs": [],
   "source": [
    "# Create a session\n",
    "session = Session(engine)"
   ]
  },
  {
   "cell_type": "markdown",
   "metadata": {},
   "source": [
    "#### Precipitation Analysis"
   ]
  },
  {
   "cell_type": "code",
   "execution_count": 57,
   "metadata": {
    "scrolled": true
   },
   "outputs": [
    {
     "data": {
      "text/html": [
       "<div>\n",
       "<style scoped>\n",
       "    .dataframe tbody tr th:only-of-type {\n",
       "        vertical-align: middle;\n",
       "    }\n",
       "\n",
       "    .dataframe tbody tr th {\n",
       "        vertical-align: top;\n",
       "    }\n",
       "\n",
       "    .dataframe thead th {\n",
       "        text-align: right;\n",
       "    }\n",
       "</style>\n",
       "<table border=\"1\" class=\"dataframe\">\n",
       "  <thead>\n",
       "    <tr style=\"text-align: right;\">\n",
       "      <th></th>\n",
       "      <th>Precipitation</th>\n",
       "    </tr>\n",
       "  </thead>\n",
       "  <tbody>\n",
       "    <tr>\n",
       "      <th>count</th>\n",
       "      <td>2021.000000</td>\n",
       "    </tr>\n",
       "    <tr>\n",
       "      <th>mean</th>\n",
       "      <td>0.177279</td>\n",
       "    </tr>\n",
       "    <tr>\n",
       "      <th>std</th>\n",
       "      <td>0.461190</td>\n",
       "    </tr>\n",
       "    <tr>\n",
       "      <th>min</th>\n",
       "      <td>0.000000</td>\n",
       "    </tr>\n",
       "    <tr>\n",
       "      <th>25%</th>\n",
       "      <td>0.000000</td>\n",
       "    </tr>\n",
       "    <tr>\n",
       "      <th>50%</th>\n",
       "      <td>0.020000</td>\n",
       "    </tr>\n",
       "    <tr>\n",
       "      <th>75%</th>\n",
       "      <td>0.130000</td>\n",
       "    </tr>\n",
       "    <tr>\n",
       "      <th>max</th>\n",
       "      <td>6.700000</td>\n",
       "    </tr>\n",
       "  </tbody>\n",
       "</table>\n",
       "</div>"
      ],
      "text/plain": [
       "       Precipitation\n",
       "count    2021.000000\n",
       "mean        0.177279\n",
       "std         0.461190\n",
       "min         0.000000\n",
       "25%         0.000000\n",
       "50%         0.020000\n",
       "75%         0.130000\n",
       "max         6.700000"
      ]
     },
     "execution_count": 57,
     "metadata": {},
     "output_type": "execute_result"
    },
    {
     "data": {
      "image/png": "[encoded data removed]",
      "text/plain": [
       "<Figure size 576x360 with 1 Axes>"
      ]
     },
     "metadata": {},
     "output_type": "display_data"
    }
   ],
   "source": [
    "# query to retrieve the last 12 months of precipitation data and save as dataframe:\n",
    "month_prcp_df = pd.DataFrame(session.query(Measurement.date, Measurement.prcp)\\\n",
    "                .filter(Measurement.date >= dt.date(2016,8,23)),columns=['Date','Precipitation'])\n",
    "\n",
    "#Change the format of date column to date format\n",
    "# month_prcp_df[\"Date\"] = pd.to_datetime(month_prcp_df.Date)\n",
    "\n",
    "#drop null values:\n",
    "month_prcp_df = month_prcp_df.dropna()\n",
    "\n",
    "#set the index to the Date:\n",
    "month_prcp_df = month_prcp_df.sort_index()\n",
    "\n",
    "#plot the results\n",
    "ax = month_prcp_df.plot(figsize=(8,5), color = 'DarkBlue', rot=90,linewidth =5)\n",
    "ax.set_xlabel(\"Date\",fontsize= 13)\n",
    "ax.set_ylabel(\"Inches\",fontsize= 15)\n",
    "ax.set_title('Precipitation vs. Date for 2016-08-23 to 2017-08-23',fontsize= 14, fontweight='bold')\n",
    "# ax.set_xlim(-30,2050)\n",
    "\n",
    "# #dispay dataframe\n",
    "month_prcp_df\n",
    "\n",
    "#print the summary statistics for the precipitation data\n",
    "month_prcp_df.describe()"
   ]
  },
  {
   "cell_type": "code",
   "execution_count": 10,
   "metadata": {},
   "outputs": [
    {
     "name": "stdout",
     "output_type": "stream",
     "text": [
      "The USC00519281 has the highest number of observations\n"
     ]
    },
    {
     "data": {
      "text/html": [
       "<div>\n",
       "<style scoped>\n",
       "    .dataframe tbody tr th:only-of-type {\n",
       "        vertical-align: middle;\n",
       "    }\n",
       "\n",
       "    .dataframe tbody tr th {\n",
       "        vertical-align: top;\n",
       "    }\n",
       "\n",
       "    .dataframe thead th {\n",
       "        text-align: right;\n",
       "    }\n",
       "</style>\n",
       "<table border=\"1\" class=\"dataframe\">\n",
       "  <thead>\n",
       "    <tr style=\"text-align: right;\">\n",
       "      <th></th>\n",
       "      <th>Observation Counts</th>\n",
       "    </tr>\n",
       "    <tr>\n",
       "      <th>Station</th>\n",
       "      <th></th>\n",
       "    </tr>\n",
       "  </thead>\n",
       "  <tbody>\n",
       "    <tr>\n",
       "      <th>USC00519281</th>\n",
       "      <td>2772</td>\n",
       "    </tr>\n",
       "    <tr>\n",
       "      <th>USC00513117</th>\n",
       "      <td>2696</td>\n",
       "    </tr>\n",
       "    <tr>\n",
       "      <th>USC00519397</th>\n",
       "      <td>2685</td>\n",
       "    </tr>\n",
       "    <tr>\n",
       "      <th>USC00519523</th>\n",
       "      <td>2572</td>\n",
       "    </tr>\n",
       "    <tr>\n",
       "      <th>USC00516128</th>\n",
       "      <td>2484</td>\n",
       "    </tr>\n",
       "    <tr>\n",
       "      <th>USC00514830</th>\n",
       "      <td>1937</td>\n",
       "    </tr>\n",
       "    <tr>\n",
       "      <th>USC00511918</th>\n",
       "      <td>1932</td>\n",
       "    </tr>\n",
       "    <tr>\n",
       "      <th>USC00517948</th>\n",
       "      <td>683</td>\n",
       "    </tr>\n",
       "    <tr>\n",
       "      <th>USC00518838</th>\n",
       "      <td>342</td>\n",
       "    </tr>\n",
       "  </tbody>\n",
       "</table>\n",
       "</div>"
      ],
      "text/plain": [
       "             Observation Counts\n",
       "Station                        \n",
       "USC00519281                2772\n",
       "USC00513117                2696\n",
       "USC00519397                2685\n",
       "USC00519523                2572\n",
       "USC00516128                2484\n",
       "USC00514830                1937\n",
       "USC00511918                1932\n",
       "USC00517948                 683\n",
       "USC00518838                 342"
      ]
     },
     "execution_count": 10,
     "metadata": {},
     "output_type": "execute_result"
    }
   ],
   "source": [
    "# calculating the total number of stations\n",
    "total_number_stations = session.query(Station.station).count()\n",
    "\n",
    "active_stations = pd.DataFrame(session.query(Measurement.station, Measurement.prcp),\\\n",
    "                  columns=['Station','Observation Counts']).groupby('Station').count()\\\n",
    "                  .sort_values('Observation Counts', ascending = False)\n",
    "\n",
    "activest_station = active_stations.index[0]\n",
    "print(\"The \"+activest_station+ \" has the highest number of observations\")\n",
    "\n",
    "#Displaying dataframe:\n",
    "active_stations"
   ]
  },
  {
   "cell_type": "markdown",
   "metadata": {},
   "source": [
    "#### Station Analysis"
   ]
  },
  {
   "cell_type": "code",
   "execution_count": 11,
   "metadata": {},
   "outputs": [
    {
     "data": {
      "image/png": "[encoded data removed]",
      "text/plain": [
       "<Figure size 432x288 with 1 Axes>"
      ]
     },
     "metadata": {},
     "output_type": "display_data"
    }
   ],
   "source": [
    "# query to retrieve the last 12 months of temperature observation data and save as dataframe:\n",
    "month_tobs_df = pd.DataFrame(session.query(Measurement.date, Measurement.tobs)\\\n",
    "                .filter(Measurement.date >= \\\n",
    "                .filter(Measurement.station==activest_station),\\\n",
    "                columns=['Date','Temperature Observation'])\n",
    "\n",
    "# #drop null values:\n",
    "month_tobs_df = month_tobs_df.dropna()\n",
    "\n",
    "#plot the results\n",
    "axarr = month_tobs_df.hist(bins =12, facecolor='DarkBlue', edgecolor= \"DarkBlue\")\n",
    "\n",
    "for ax in axarr.flatten():\n",
    "    ax.set_xlabel(\"Temperature\")\n",
    "    ax.set_ylabel(\"Frequency\")\n",
    "    ax.set_title(\"Count of Stations Observation vs. Temperature\", fontweight = 'bold')"
   ]
  },
  {
   "cell_type": "markdown",
   "metadata": {},
   "source": [
    "### Bonus \n",
    "### Temperature Analysis I"
   ]
  },
  {
   "cell_type": "code",
   "execution_count": 62,
   "metadata": {},
   "outputs": [
    {
     "data": {
      "text/html": [
       "<div>\n",
       "<style scoped>\n",
       "    .dataframe tbody tr th:only-of-type {\n",
       "        vertical-align: middle;\n",
       "    }\n",
       "\n",
       "    .dataframe tbody tr th {\n",
       "        vertical-align: top;\n",
       "    }\n",
       "\n",
       "    .dataframe thead th {\n",
       "        text-align: right;\n",
       "    }\n",
       "</style>\n",
       "<table border=\"1\" class=\"dataframe\">\n",
       "  <thead>\n",
       "    <tr style=\"text-align: right;\">\n",
       "      <th></th>\n",
       "      <th>station</th>\n",
       "      <th>date</th>\n",
       "      <th>prcp</th>\n",
       "      <th>tobs</th>\n",
       "    </tr>\n",
       "  </thead>\n",
       "  <tbody>\n",
       "    <tr>\n",
       "      <th>0</th>\n",
       "      <td>USC00519397</td>\n",
       "      <td>2010-01-01</td>\n",
       "      <td>0.08</td>\n",
       "      <td>65</td>\n",
       "    </tr>\n",
       "    <tr>\n",
       "      <th>1</th>\n",
       "      <td>USC00519397</td>\n",
       "      <td>2010-01-02</td>\n",
       "      <td>0.00</td>\n",
       "      <td>63</td>\n",
       "    </tr>\n",
       "    <tr>\n",
       "      <th>2</th>\n",
       "      <td>USC00519397</td>\n",
       "      <td>2010-01-03</td>\n",
       "      <td>0.00</td>\n",
       "      <td>74</td>\n",
       "    </tr>\n",
       "    <tr>\n",
       "      <th>3</th>\n",
       "      <td>USC00519397</td>\n",
       "      <td>2010-01-04</td>\n",
       "      <td>0.00</td>\n",
       "      <td>76</td>\n",
       "    </tr>\n",
       "    <tr>\n",
       "      <th>4</th>\n",
       "      <td>USC00519397</td>\n",
       "      <td>2010-01-06</td>\n",
       "      <td>NaN</td>\n",
       "      <td>73</td>\n",
       "    </tr>\n",
       "    <tr>\n",
       "      <th>...</th>\n",
       "      <td>...</td>\n",
       "      <td>...</td>\n",
       "      <td>...</td>\n",
       "      <td>...</td>\n",
       "    </tr>\n",
       "    <tr>\n",
       "      <th>19545</th>\n",
       "      <td>USC00516128</td>\n",
       "      <td>2017-08-19</td>\n",
       "      <td>0.09</td>\n",
       "      <td>71</td>\n",
       "    </tr>\n",
       "    <tr>\n",
       "      <th>19546</th>\n",
       "      <td>USC00516128</td>\n",
       "      <td>2017-08-20</td>\n",
       "      <td>NaN</td>\n",
       "      <td>78</td>\n",
       "    </tr>\n",
       "    <tr>\n",
       "      <th>19547</th>\n",
       "      <td>USC00516128</td>\n",
       "      <td>2017-08-21</td>\n",
       "      <td>0.56</td>\n",
       "      <td>76</td>\n",
       "    </tr>\n",
       "    <tr>\n",
       "      <th>19548</th>\n",
       "      <td>USC00516128</td>\n",
       "      <td>2017-08-22</td>\n",
       "      <td>0.50</td>\n",
       "      <td>76</td>\n",
       "    </tr>\n",
       "    <tr>\n",
       "      <th>19549</th>\n",
       "      <td>USC00516128</td>\n",
       "      <td>2017-08-23</td>\n",
       "      <td>0.45</td>\n",
       "      <td>76</td>\n",
       "    </tr>\n",
       "  </tbody>\n",
       "</table>\n",
       "<p>19550 rows × 4 columns</p>\n",
       "</div>"
      ],
      "text/plain": [
       "           station        date  prcp  tobs\n",
       "0      USC00519397  2010-01-01  0.08    65\n",
       "1      USC00519397  2010-01-02  0.00    63\n",
       "2      USC00519397  2010-01-03  0.00    74\n",
       "3      USC00519397  2010-01-04  0.00    76\n",
       "4      USC00519397  2010-01-06   NaN    73\n",
       "...            ...         ...   ...   ...\n",
       "19545  USC00516128  2017-08-19  0.09    71\n",
       "19546  USC00516128  2017-08-20   NaN    78\n",
       "19547  USC00516128  2017-08-21  0.56    76\n",
       "19548  USC00516128  2017-08-22  0.50    76\n",
       "19549  USC00516128  2017-08-23  0.45    76\n",
       "\n",
       "[19550 rows x 4 columns]"
      ]
     },
     "execution_count": 62,
     "metadata": {},
     "output_type": "execute_result"
    }
   ],
   "source": [
    "# Read and save csv data files into dataframe\n",
    "\n",
    "station_df = pd.read_csv(\"Resources/hawaii_stations.csv\") \n",
    "measurement_df = pd.read_csv(\"Resources/hawaii_measurements.csv\")\n",
    "measurement_df"
   ]
  },
  {
   "cell_type": "code",
   "execution_count": 13,
   "metadata": {},
   "outputs": [],
   "source": [
    "# Remove the null values\n",
    "\n",
    "station_df = station_df.dropna()\n",
    "measurement_df = measurement_df.dropna()"
   ]
  },
  {
   "cell_type": "code",
   "execution_count": 14,
   "metadata": {},
   "outputs": [],
   "source": [
    "#extract month from date to find data of June and December\n",
    "\n",
    "measurement_df['month'] = pd.DatetimeIndex(measurement_df['date']).month"
   ]
  },
  {
   "cell_type": "code",
   "execution_count": 15,
   "metadata": {},
   "outputs": [
    {
     "name": "stdout",
     "output_type": "stream",
     "text": [
      "3.957298538980851\n"
     ]
    }
   ],
   "source": [
    "#finding the avg temperatur efor June and Dec\n",
    "\n",
    "measurement_grouped_by_month = measurement_df.groupby('month').mean().reset_index()\n",
    "\n",
    "avg_temp_june = measurement_grouped_by_month.iloc[5,2]\n",
    "avg_temp_Dec = measurement_grouped_by_month.iloc[11,2]\n",
    "\n",
    "diff_between_june_dec = avg_temp_june - avg_temp_Dec \n",
    "print(diff_between_june_dec)"
   ]
  },
  {
   "cell_type": "code",
   "execution_count": 64,
   "metadata": {},
   "outputs": [
    {
     "data": {
      "text/html": [
       "<div>\n",
       "<style scoped>\n",
       "    .dataframe tbody tr th:only-of-type {\n",
       "        vertical-align: middle;\n",
       "    }\n",
       "\n",
       "    .dataframe tbody tr th {\n",
       "        vertical-align: top;\n",
       "    }\n",
       "\n",
       "    .dataframe thead th {\n",
       "        text-align: right;\n",
       "    }\n",
       "</style>\n",
       "<table border=\"1\" class=\"dataframe\">\n",
       "  <thead>\n",
       "    <tr style=\"text-align: right;\">\n",
       "      <th></th>\n",
       "      <th>month</th>\n",
       "      <th>prcp</th>\n",
       "      <th>tobs</th>\n",
       "    </tr>\n",
       "  </thead>\n",
       "  <tbody>\n",
       "    <tr>\n",
       "      <th>0</th>\n",
       "      <td>1</td>\n",
       "      <td>0.129975</td>\n",
       "      <td>68.653704</td>\n",
       "    </tr>\n",
       "    <tr>\n",
       "      <th>1</th>\n",
       "      <td>2</td>\n",
       "      <td>0.137271</td>\n",
       "      <td>69.352660</td>\n",
       "    </tr>\n",
       "    <tr>\n",
       "      <th>2</th>\n",
       "      <td>3</td>\n",
       "      <td>0.204227</td>\n",
       "      <td>69.938697</td>\n",
       "    </tr>\n",
       "    <tr>\n",
       "      <th>3</th>\n",
       "      <td>4</td>\n",
       "      <td>0.150639</td>\n",
       "      <td>72.281505</td>\n",
       "    </tr>\n",
       "    <tr>\n",
       "      <th>4</th>\n",
       "      <td>5</td>\n",
       "      <td>0.145677</td>\n",
       "      <td>73.622537</td>\n",
       "    </tr>\n",
       "    <tr>\n",
       "      <th>5</th>\n",
       "      <td>6</td>\n",
       "      <td>0.136360</td>\n",
       "      <td>74.887548</td>\n",
       "    </tr>\n",
       "    <tr>\n",
       "      <th>6</th>\n",
       "      <td>7</td>\n",
       "      <td>0.167922</td>\n",
       "      <td>75.956023</td>\n",
       "    </tr>\n",
       "    <tr>\n",
       "      <th>7</th>\n",
       "      <td>8</td>\n",
       "      <td>0.146662</td>\n",
       "      <td>76.287534</td>\n",
       "    </tr>\n",
       "    <tr>\n",
       "      <th>8</th>\n",
       "      <td>9</td>\n",
       "      <td>0.164249</td>\n",
       "      <td>76.002175</td>\n",
       "    </tr>\n",
       "    <tr>\n",
       "      <th>9</th>\n",
       "      <td>10</td>\n",
       "      <td>0.155606</td>\n",
       "      <td>75.256055</td>\n",
       "    </tr>\n",
       "    <tr>\n",
       "      <th>10</th>\n",
       "      <td>11</td>\n",
       "      <td>0.180380</td>\n",
       "      <td>73.159357</td>\n",
       "    </tr>\n",
       "    <tr>\n",
       "      <th>11</th>\n",
       "      <td>12</td>\n",
       "      <td>0.216819</td>\n",
       "      <td>70.930249</td>\n",
       "    </tr>\n",
       "  </tbody>\n",
       "</table>\n",
       "</div>"
      ],
      "text/plain": [
       "    month      prcp       tobs\n",
       "0       1  0.129975  68.653704\n",
       "1       2  0.137271  69.352660\n",
       "2       3  0.204227  69.938697\n",
       "3       4  0.150639  72.281505\n",
       "4       5  0.145677  73.622537\n",
       "5       6  0.136360  74.887548\n",
       "6       7  0.167922  75.956023\n",
       "7       8  0.146662  76.287534\n",
       "8       9  0.164249  76.002175\n",
       "9      10  0.155606  75.256055\n",
       "10     11  0.180380  73.159357\n",
       "11     12  0.216819  70.930249"
      ]
     },
     "execution_count": 64,
     "metadata": {},
     "output_type": "execute_result"
    }
   ],
   "source": [
    "## T tesa\n",
    "measurement_grouped_by_month\n",
    "# avg_temp_june\n",
    "# a = avg_temp_Dec.tobs\n",
    "# a\n",
    "June_temp = x (1700)\n",
    "Dec_temp = y\n",
    "\n",
    "#pair test\n",
    "stats.ttest_ind(June_temp, Dec_temp)"
   ]
  },
  {
   "cell_type": "markdown",
   "metadata": {},
   "source": [
    "#### Based on the above calculation, it seems the temperature observed in the June is pretty the same as the December"
   ]
  },
  {
   "cell_type": "markdown",
   "metadata": {},
   "source": [
    "### Temperature Analysis II"
   ]
  },
  {
   "cell_type": "code",
   "execution_count": 17,
   "metadata": {},
   "outputs": [],
   "source": [
    "# defining a calc_temp function which accept a start date and end date in the format `%Y-%m-%d`. \n",
    "# The function will return the minimum, average, and maximum temperatures for that range of dates.\n",
    "\n",
    "def calc_temp(start_date,end_date):\n",
    "    \n",
    "    dates = session.query(Measurement.date)\n",
    "    all_dates = [dt.datetime.strptime(item[0], '%Y-%m-%d') for item in dates]\n",
    "    \n",
    "    while not(start_date in all_dates):\n",
    "        \n",
    "        print(\"sorry we don't have data for the provided dates\")\n",
    "        print(\"But we predict the temperature based on last years\")\n",
    "        start_date_year= start_date.year-1\n",
    "        start_date = dt.datetime(start_date_year, start_date.month, start_date.day) \n",
    "        \n",
    "        end_date_year= end_date.year-1\n",
    "        end_date = dt.datetime(end_date_year, end_date.month, end_date.day)\n",
    "        \n",
    "    if not(end_date in all_dates):\n",
    "        print(\"sorry we don't have data for the provided end date\")\n",
    "        print(f\"But we predict temperature based on our most recent data {max(all_dates)} \")\n",
    "        end_date = max(all_dates)\n",
    "       \n",
    "    \n",
    "    min_avg_max = session.query(func.min(Measurement.tobs), func.avg(Measurement.tobs),\\\n",
    "              func.max(Measurement.tobs)).filter(Measurement.date >= start_date)\\\n",
    "              .filter(Measurement.date <= end_date).all()\n",
    "    return min_avg_max, start_date, end_date"
   ]
  },
  {
   "cell_type": "code",
   "execution_count": 34,
   "metadata": {},
   "outputs": [],
   "source": [
    "start_date = dt.datetime(2012,2,28)\n",
    "end_date = dt.datetime(2012,3,5)\n",
    "\n",
    "min_temp, avg_temp, max_temp = calc_temp(start_date, end_date)[0][0]\n",
    "\n",
    "start_date = calc_temp(start_date, end_date)[1]\n",
    "\n",
    "end_date = calc_temp(start_date, end_date)[2]\n",
    "\n",
    "index = f\"From {start_date.year}-{start_date.month}-{start_date.day} To {end_date.year}-{end_date.month}-{end_date.day}\"\n",
    "\n",
    "df = pd.DataFrame([avg_temp],columns=['Average Temperature'], index=[index])"
   ]
  },
  {
   "cell_type": "code",
   "execution_count": 40,
   "metadata": {},
   "outputs": [
    {
     "data": {
      "text/plain": [
       "Text(0, 0.5, 'Temp F')"
      ]
     },
     "execution_count": 40,
     "metadata": {},
     "output_type": "execute_result"
    },
    {
     "data": {
      "image/png": "[encoded data removed]",
      "text/plain": [
       "<Figure size 432x288 with 1 Axes>"
      ]
     },
     "metadata": {},
     "output_type": "display_data"
    }
   ],
   "source": [
    "ax= df.plot.bar(yerr = max_temp-min_temp, rot =0, facecolor = 'blue', edgecolor = 'black')\n",
    "ax.set_ylabel(\"Temp F\")"
   ]
  },
  {
   "cell_type": "markdown",
   "metadata": {},
   "source": [
    "### Daily Rainfall Average\n"
   ]
  },
  {
   "cell_type": "code",
   "execution_count": 52,
   "metadata": {},
   "outputs": [
    {
     "data": {
      "text/plain": [
       "station\n",
       "USC00513117    0.0\n",
       "USC00514830    0.0\n",
       "USC00516128    0.0\n",
       "USC00517948    0.0\n",
       "USC00519281    0.0\n",
       "USC00519397    0.0\n",
       "USC00519523    0.0\n",
       "Name: prcp, dtype: float64"
      ]
     },
     "execution_count": 52,
     "metadata": {},
     "output_type": "execute_result"
    }
   ],
   "source": [
    "rainfall_per_station_df = pd.DataFrame(session.query(Measurement.station, Measurement.prcp)\\\n",
    "                          .filter(Measurement.date >= dt.date(2016,8,23))).groupby('station')\n",
    "\n",
    "rainfall_min = rainfall_per_station_df['prcp'].min()\n",
    "rainfall_min"
   ]
  },
  {
   "cell_type": "code",
   "execution_count": 53,
   "metadata": {},
   "outputs": [
    {
     "data": {
      "text/plain": [
       "[(62.0, 69.15384615384616, 77.0)]"
      ]
     },
     "execution_count": 53,
     "metadata": {},
     "output_type": "execute_result"
    }
   ],
   "source": [
    "def daily_normals(date):\n",
    "    \"\"\"Daily Normals.\n",
    "    \n",
    "    Args:\n",
    "        date (str): A date string in the format '%m-%d'\n",
    "        \n",
    "    Returns:\n",
    "        A list of tuples containing the daily normals, tmin, tavg, and tmax\n",
    "    \n",
    "    \"\"\"\n",
    "    \n",
    "    sel = [func.min(Measurement.tobs), func.avg(Measurement.tobs), func.max(Measurement.tobs)]\n",
    "    return session.query(*sel).filter(func.strftime(\"%m-%d\", Measurement.date) == date).all()\n",
    "    \n",
    "daily_normals(\"01-01\")"
   ]
  },
  {
   "cell_type": "code",
   "execution_count": null,
   "metadata": {},
   "outputs": [],
   "source": []
  }
 ],
 "metadata": {
  "kernelspec": {
   "display_name": "Python 3",
   "language": "python",
   "name": "python3"
  },
  "language_info": {
   "codemirror_mode": {
    "name": "ipython",
    "version": 3
   },
   "file_extension": ".py",
   "mimetype": "text/x-python",
   "name": "python",
   "nbconvert_exporter": "python",
   "pygments_lexer": "ipython3",
   "version": "3.7.6"
  }
 },
 "nbformat": 4,
 "nbformat_minor": 4
}
